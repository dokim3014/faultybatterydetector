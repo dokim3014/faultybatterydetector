{
 "cells": [
  {
   "cell_type": "code",
   "execution_count": null,
   "metadata": {},
   "outputs": [],
   "source": [
    "import numpy as np\n",
    "import scipy\n",
    "\n",
    "def reorient(img):\n",
    "    img_th = img > ((img.max() + img.min()) / 2)\n",
    "    \n",
    "    nonzero = np.nonzero(img_th)\n",
    "    nonzero = np.array(nonzero).T\n",
    "\n",
    "    X = nonzero\n",
    "\n",
    "    X_meaned = X - np.mean(X, axis=0)\n",
    "    cov_mat = np.cov(X_meaned, rowvar=False)\n",
    "    eigen_values, eigen_vectors = np.linalg.eigh(cov_mat)\n",
    "    sorted_index = np.argsort(eigen_values)[::-1]\n",
    "    sorted_eigenvectors = eigen_vectors[:, sorted_index]\n",
    "    \n",
    "    angle_rad = np.arctan(sorted_eigenvectors[0, 0]/sorted_eigenvectors[0, 1])\n",
    "    angle_deg = 180 * angle_rad / np.pi\n",
    "\n",
    "    mask_rot = scipy.ndimage.rotate(img_th, -angle_deg, reshape=False)\n",
    "    y, x = np.nonzero(mask_rot)\n",
    "    y_mean, x_mean = int(np.mean(y)), int(np.mean(x))\n",
    "\n",
    "    img_clean = np.zeros((60, 140), dtype=np.float32)\n",
    "    img_rot = scipy.ndimage.rotate(img, -angle_deg, reshape=False)\n",
    "    img_clean = img_rot[y_mean-30:y_mean+30, x_mean-70:x_mean+70]\n",
    "\n",
    "    return img_clean"
   ]
  }
 ],
 "metadata": {
  "language_info": {
   "name": "python"
  },
  "orig_nbformat": 4
 },
 "nbformat": 4,
 "nbformat_minor": 2
}
